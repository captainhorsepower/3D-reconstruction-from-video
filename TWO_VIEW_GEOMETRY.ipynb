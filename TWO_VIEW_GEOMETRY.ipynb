{
 "metadata": {
  "language_info": {
   "codemirror_mode": {
    "name": "ipython",
    "version": 3
   },
   "file_extension": ".py",
   "mimetype": "text/x-python",
   "name": "python",
   "nbconvert_exporter": "python",
   "pygments_lexer": "ipython3",
   "version": "3.9.4"
  },
  "orig_nbformat": 2,
  "kernelspec": {
   "name": "python394jvsc74a57bd073cfd30fee2d5bbc4003b0149f62b92db9f3df94e9c50e4893e89b98d6093810",
   "display_name": "Python 3.9.4 64-bit ('3D-reconstruction')"
  }
 },
 "nbformat": 4,
 "nbformat_minor": 2,
 "cells": [
  {
   "source": [
    "# Geometry of two perspective views\n",
    "\n",
    "Два изобаржения могут быть получены одновременно при помощи стерео системы, либо последовательно при помощи\n",
    "движущейся относительно сцены камеры. Оба случая геометрически эквивалентны.\n",
    "\n",
    "Каждому изображению (view) соответсвтует матрица камеры (camera matrix) $P$ и $P'$ соответственно.\n",
    "\n",
    "В трёхмерном пространтсве находится точка $X$ изображёная как $x = PX$ на первом и $x' = P'X$ на втором изображениях. Точки $x$ и $x'$ называются соответсвующими.\n",
    "\n",
    "Три вопроса, на которые нужно ответить:\n",
    "\n",
    "1. Correspondence geometry. Зная $x$,  как это сужает область поиска $x'$ ?\n",
    "\n",
    "2. Camera geometry (motion). По набору соответсвующих точек ${x_i <-> x'_i}$ определить $P$ и $P'$.\n",
    "\n",
    "3. Scene geometry (structure). По набору соотв. точек и матрицам камер найти $X$ в трёхмерном пространстве.\n"
   ],
   "cell_type": "markdown",
   "metadata": {}
  },
  {
   "source": [],
   "cell_type": "markdown",
   "metadata": {}
  }
 ]
}